{
 "cells": [
  {
   "cell_type": "markdown",
   "metadata": {
    "application/vnd.databricks.v1+cell": {
     "cellMetadata": {
      "byteLimit": 2048000,
      "rowLimit": 10000
     },
     "inputWidgets": {},
     "nuid": "a30d1e10-44f8-4458-bb44-4cc065798bba",
     "showTitle": false,
     "title": ""
    }
   },
   "source": [
    "# Cracking the Enigma Using Apache Spark\n",
    "\n",
    "The Enigma machine was a configurable device used by the Germans during World War II to encrypt confidential\n",
    "information. Although Nazi Germany placed great faith in the capabilities of the machine, it suffered from a few design\n",
    "flaws that the Allies managed to exploit, enabling them to read secret information. The story of deciphering the Enigma\n",
    "has been depicted in the film \"The Imitation Game.\"\n",
    "\n",
    "In this post, I will demonstrate how I cracked the Enigma machine using Apache Spark. This framework is widely used in\n",
    "big data analysis because it allows for distributed calculations and storage of data. This way, one can execute a\n",
    "massive amount of calculations on different machines, which can dramatically speed up the overall execution time. The\n",
    "process of cracking the Enigma involves several number crunching steps that can be executed in parallel. Because of\n",
    "this, Spark is an ideal tool to speed up the process."
   ]
  },
  {
   "cell_type": "markdown",
   "metadata": {
    "application/vnd.databricks.v1+cell": {
     "cellMetadata": {
      "byteLimit": 2048000,
      "rowLimit": 10000
     },
     "inputWidgets": {},
     "nuid": "d369c71b-2765-42d3-9814-ef4e8959aa67",
     "showTitle": false,
     "title": ""
    }
   },
   "source": [
    "## The Overall Approach for Cracking the Enigma\n",
    "\n",
    "In this post, I won't go into detail about the underlying workings of the Enigma machine or the algorithms that can be\n",
    "used to crack it. In short, the Enigma machine is a device that scrambles input letters to produce different output\n",
    "letters. With each button press, the mapping changes. This, combined with the fact that the Enigma machine could be\n",
    "configured in 158,962,555,217,826,360,000 different ways, led the Germans to believe that it was uncrackable. However,\n",
    "the fact that each input letter differs from the output makes it relatively easy to align a \"crib,\" a short known piece\n",
    "of the original text, with the encrypted text. Numberphile has some\n",
    "informative [videos](https://www.youtube.com/watch?v=G2_Q9FoD-oQ) about the Enigma in which they explain the algorithms\n",
    "involved in breaking the Enigma. I implemented these algorithms and an Enigma emulator in a separate Python package,\n",
    "which I used in a standalone script to break the Enigma with parallel computation on Databricks (sort of Spark as a\n",
    "service). All the code for this project is available on Github.\n",
    "\n"
   ]
  },
  {
   "cell_type": "markdown",
   "metadata": {
    "application/vnd.databricks.v1+cell": {
     "cellMetadata": {
      "byteLimit": 2048000,
      "rowLimit": 10000
     },
     "inputWidgets": {},
     "nuid": "78043bee-2b36-4adb-aec4-a2fb4cf029b2",
     "showTitle": false,
     "title": ""
    }
   },
   "source": [
    "### Setting up the infrastructure\n",
    "In this project I use Databricks as the Spark provider. To set up the Databricks workspace in azure cloud I use\n",
    "[Terraform](https://www.terraform.io/). Assuming that terraform is installed, enter the terraform folder and run:\n",
    "```commandline\n",
    "terraform init\n",
    "terraform apply\n",
    "```\n",
    "After the whole infrastructure is created, which will probably take a few minutes, you can navigate to\n",
    "the databricks workspace by clicking on the URL that is outputed in the terminal.\n",
    "The wokspace if preconfigured with a single node cluster with the engima-emulator installed and this notebook that you can run interactively\n"
   ]
  },
  {
   "cell_type": "markdown",
   "metadata": {
    "application/vnd.databricks.v1+cell": {
     "cellMetadata": {
      "byteLimit": 2048000,
      "rowLimit": 10000
     },
     "inputWidgets": {},
     "nuid": "7c70349b-d8cc-4c7e-9a14-1ae3d8e8edad",
     "showTitle": false,
     "title": ""
    }
   },
   "source": [
    "### Cracking the Enigma using a crib\n",
    "We start with encrypting a message using the emulator with a configured Enigma machine that we are going to crack.\n",
    "In this project we asume that we have a crib, that is, a decipherd/original piece of the encrypted text. In reality, these cribs were obtained either by informants or simply because they where trivial and included in daily messages. In this notebook I assume that we no the alignment of the crib with the cipher text, it is just the first piece of the text."
   ]
  },
  {
   "cell_type": "code",
   "execution_count": 0,
   "metadata": {
    "application/vnd.databricks.v1+cell": {
     "cellMetadata": {
      "byteLimit": 2048000,
      "rowLimit": 10000
     },
     "inputWidgets": {},
     "nuid": "344efa56-e4c6-4c73-954d-f2a1ee0fb6dc",
     "showTitle": false,
     "title": ""
    }
   },
   "outputs": [
    {
     "output_type": "stream",
     "name": "stderr",
     "output_type": "stream",
     "text": [
      "INFO:py4j.clientserver:Received command c on object id p0\n"
     ]
    },
    {
     "output_type": "stream",
     "name": "stdout",
     "output_type": "stream",
     "text": [
      "AWSQGVWKHXXAGSITSYIIKWHGEROPFSVRMPIMACSLKLWAJSLX\n"
     ]
    }
   ],
   "source": [
    "import pyspark.sql.functions as F\n",
    "from typing import List\n",
    "from enigma.crack import get_possible_rotor_settings, PlugBoardResolver, InvalidSettings\n",
    "from enigma.emulator import Enigma\n",
    "from pyspark.sql.session import SparkSession\n",
    "from pyspark.sql import Row\n",
    "from functools import partial\n",
    "\n",
    "\n",
    "# build spark session\n",
    "spark = SparkSession.builder.getOrCreate()\n",
    "\n",
    "crib = \"WettervorhersageXXXfurxdiexRegionXXXOstXXXMoskau\".upper()\n",
    "complete_message = f\"{crib}xxxextremxKaltexxxTemperaturenxxxundxxxstarkerxxxSchneefallxxxseixxxgewarnt\"\n",
    "\n",
    "e = Enigma(rotor_types=\"II,III,I\", ring_settings=\"I,A,A\", plugboard_pairs=\"CU,DL,EP,KN,MO,XZ\")\n",
    "cypher = e.encrypt(crib)\n",
    "print(cypher)"
   ]
  },
  {
   "cell_type": "markdown",
   "metadata": {
    "application/vnd.databricks.v1+cell": {
     "cellMetadata": {
      "byteLimit": 2048000,
      "rowLimit": 10000
     },
     "inputWidgets": {},
     "nuid": "a0dbe606-e675-4de1-bd1d-1fb07e583cda",
     "showTitle": false,
     "title": ""
    }
   },
   "source": [
    "In the next steps we will try to crack the enigma using the crib and the cypher text. For this, we will first declare a few generic functions that we are going to use.\n"
   ]
  },
  {
   "cell_type": "code",
   "execution_count": 0,
   "metadata": {
    "application/vnd.databricks.v1+cell": {
     "cellMetadata": {
      "byteLimit": 2048000,
      "rowLimit": 10000
     },
     "inputWidgets": {},
     "nuid": "fc27148b-7d52-4750-893a-e81071d85d8b",
     "showTitle": false,
     "title": ""
    }
   },
   "outputs": [
    {
     "output_type": "stream",
     "name": "stderr",
     "output_type": "stream",
     "text": [
      "INFO:py4j.clientserver:Received command c on object id p0\n"
     ]
    }
   ],
   "source": [
    "NOT_RESOLVABLE = \"NOT_RESOLVABLE\"  # sentinel to indicate that rotor settings are not valid/resolvable\n",
    "\n",
    "def translate_with_settings(rotor_types: str, reflector_type: str, ring_settings: str, plugboard_pairs: str, text: str):\n",
    "    \"\"\"Translates a text using Enigma machine and provided configurations\n",
    "\n",
    "    Args:\n",
    "        rotor_types (str): The rotor types as comma separated string e.g. \"III,II,I\"\n",
    "        reflector_type (str): The reflector to use e.g. \"B\"\n",
    "        ring_settings (str): The ring settings to use (offsets) e.g. \"A,B,A\"\n",
    "        plugboard_pairs (str): The plugboard config as comma separated string e.g. \"AC,BD\"\n",
    "        text (str): The text to encrypt\n",
    "    Returns:\n",
    "        encrypted_text (str): The encrypted text\n",
    "    \"\"\"\n",
    "    enigma = Enigma(rotor_types=rotor_types, reflector_type=reflector_type, ring_settings=ring_settings,\n",
    "                    plugboard_pairs=plugboard_pairs)\n",
    "    return enigma.encrypt(text)\n",
    "\n",
    "\n",
    "def score_setting(rotor_types: str, reflector_type: str, ring_settings: str, plugboard_pairs: str, cypher: str,\n",
    "                  crib: str) -> int:\n",
    "    \"\"\"Score the enigma settings using a known crib and the corresponding cypher text based on their\n",
    "    similarity\n",
    "\n",
    "    Args:\n",
    "        rotor_types (str): The rotor types as comma separated string e.g. \"III,II,I\"\n",
    "        reflector_type (str): The reflector to use e.g. \"B\"\n",
    "        ring_settings (str): The ring settings to use (offsets) e.g. \"A,B,A\"\n",
    "        plugboard_pairs (str): The plugboard config as comma separated string e.g. \"AC,BD\"\n",
    "        cypher (str): The encrypted text\n",
    "        crib (str): The original text\n",
    "    Returns:\n",
    "        score (int): the score of the settings\n",
    "    \"\"\"\n",
    "    output = translate_with_settings(rotor_types, reflector_type, ring_settings, plugboard_pairs, cypher)\n",
    "    return len([l for l, r in zip(output, crib) if l == r])\n",
    "\n",
    "\n",
    "def resolve_plugboard_possibilities(rotor_types: str, reflector_type: str, ring_settings: str, cypher: str,\n",
    "                                    crib: str) -> List[str]:\n",
    "    \"\"\"Find possible plugboard configurations for 'rotor' configured enigma machine that do not contradict\n",
    "\n",
    "    Args:\n",
    "        rotor_types (str): The rotor types as comma separated string e.g. \"III,II,I\"\n",
    "        reflector_type (str): The reflector to use e.g. \"B\"\n",
    "        ring_settings (str): The ring settings to use (offsets) e.g. \"A,B,A\"\n",
    "        cypher (str): The encrypted text\n",
    "        crib (str): The original text\n",
    "    Returns:\n",
    "        plugboard_configurations (List[str]): a list of possible plugboard configurations\n",
    "    \"\"\"\n",
    "\n",
    "    plugboard_resolver = PlugBoardResolver(crib, cypher, rotor_types, reflector_type, ring_settings)\n",
    "    try:\n",
    "        plugboard_resolver.eliminate_pairs()\n",
    "        if plugboard_resolver.get_remaining() > 1000:\n",
    "            raise InvalidSettings()\n",
    "        else:\n",
    "            return plugboard_resolver.get_remaining_pairs()\n",
    "    except InvalidSettings:\n",
    "        return [NOT_RESOLVABLE]\n",
    "\n"
   ]
  },
  {
   "cell_type": "markdown",
   "metadata": {
    "application/vnd.databricks.v1+cell": {
     "cellMetadata": {
      "byteLimit": 2048000,
      "rowLimit": 10000
     },
     "inputWidgets": {},
     "nuid": "74139f53-a324-4879-af0a-be62eb70ebe9",
     "showTitle": false,
     "title": ""
    }
   },
   "source": [
    "And a few partial functions for this particular crib and cypher text\n"
   ]
  },
  {
   "cell_type": "code",
   "execution_count": 0,
   "metadata": {
    "application/vnd.databricks.v1+cell": {
     "cellMetadata": {
      "byteLimit": 2048000,
      "rowLimit": 10000
     },
     "inputWidgets": {},
     "nuid": "3c951749-f8d7-414b-9c91-76a4c4b3241c",
     "showTitle": false,
     "title": ""
    }
   },
   "outputs": [
    {
     "output_type": "stream",
     "name": "stderr",
     "output_type": "stream",
     "text": [
      "INFO:py4j.clientserver:Received command c on object id p0\n"
     ]
    }
   ],
   "source": [
    "# To find best matching rotor settings without plugboard configured\n",
    "naive_score_function = partial(score_setting, cypher=cypher, crib=crib, plugboard_pairs=None)\n",
    "\n",
    "# To retrieve possible plugboard configurations\n",
    "resolve_plugboard_function = partial(resolve_plugboard_possibilities, cypher=cypher, crib=crib)\n",
    "\n",
    "# To score a completely configured enigma\n",
    "score_function = partial(score_setting, cypher=cypher, crib=crib)"
   ]
  },
  {
   "cell_type": "markdown",
   "metadata": {
    "application/vnd.databricks.v1+cell": {
     "cellMetadata": {
      "byteLimit": 2048000,
      "rowLimit": 10000
     },
     "inputWidgets": {},
     "nuid": "055b1085-e58a-4764-994c-63b45cbf0580",
     "showTitle": false,
     "title": ""
    }
   },
   "source": [
    "The first step is to resolve the rotor settings. Since not all letters are connected by the plugboard, the rotor configuration 'leaks' trough the cypher text. We will use brute force to retrieve the most probable rotor configurations"
   ]
  },
  {
   "cell_type": "code",
   "execution_count": 0,
   "metadata": {
    "application/vnd.databricks.v1+cell": {
     "cellMetadata": {
      "byteLimit": 2048000,
      "rowLimit": 10000
     },
     "inputWidgets": {},
     "nuid": "14081d58-16cd-45f2-9006-3502444a9602",
     "showTitle": false,
     "title": ""
    }
   },
   "outputs": [
    {
     "output_type": "stream",
     "name": "stderr",
     "output_type": "stream",
     "text": [
      "INFO:py4j.clientserver:Received command c on object id p0\n"
     ]
    }
   ],
   "source": [
    "# get al lrotor settings and their translations\n",
    "rdd = spark.sparkContext.parallelize(\n",
    "    [(v, Row(rotor_types=v[0], reflector_type=v[1], ring_settings=v[2])) for v in get_possible_rotor_settings()], 2)\n",
    "\n",
    "# Get scores for every rotor_settings without any plugboard configuration.\n",
    "rdd = rdd.mapValues(\n",
    "    lambda r: Row(rotor_types=r.rotor_types, reflector_type=r.reflector_type, ring_settings=r.ring_settings,\n",
    "                  naive_score=naive_score_function(r.rotor_types, r.reflector_type, r.ring_settings)))\n",
    "\n"
   ]
  },
  {
   "cell_type": "markdown",
   "metadata": {
    "application/vnd.databricks.v1+cell": {
     "cellMetadata": {
      "byteLimit": 2048000,
      "rowLimit": 10000
     },
     "inputWidgets": {},
     "nuid": "631492a7-40a6-4316-88da-4bee363d7ddd",
     "showTitle": false,
     "title": ""
    }
   },
   "source": [
    "Next, we will take the most probable rotor settings and try to resolve the plugboard by eliminating as much as possible. After that, we will assess all posiblities score them."
   ]
  },
  {
   "cell_type": "code",
   "execution_count": 0,
   "metadata": {
    "application/vnd.databricks.v1+cell": {
     "cellMetadata": {
      "byteLimit": 2048000,
      "rowLimit": 10000
     },
     "inputWidgets": {},
     "nuid": "16f61a04-bf37-475b-9d88-8410b330f5d9",
     "showTitle": false,
     "title": ""
    }
   },
   "outputs": [
    {
     "output_type": "stream",
     "name": "stderr",
     "output_type": "stream",
     "text": [
      "INFO:py4j.clientserver:Received command c on object id p0\n"
     ]
    }
   ],
   "source": [
    "# only consider the best naive rotor settings\n",
    "rdd = spark.sparkContext.parallelize(rdd.top(100, key=lambda r: r[1].naive_score))\n",
    "\n",
    "rdd = rdd.flatMapValues(\n",
    "    lambda r: [Row(rotor_types=r.rotor_types,\n",
    "                   reflector_type=r.reflector_type,\n",
    "                   ring_settings=r.ring_settings,\n",
    "                   plugboard_pairs=pp) for pp in\n",
    "               resolve_plugboard_function(r.rotor_types, r.reflector_type, r.ring_settings)])\n",
    "\n",
    "rdd = rdd.filter(lambda x: x[1].plugboard_pairs != NOT_RESOLVABLE)\n",
    "\n",
    "rdd = rdd.mapValues(lambda r: Row(rotor_types=r.rotor_types,\n",
    "                                  reflector_type=r.reflector_type,\n",
    "                                  ring_settings=r.ring_settings,\n",
    "                                  plugboard_pairs=r.plugboard_pairs,\n",
    "                                  score=score_function(r.rotor_types, r.reflector_type, r.ring_settings,\n",
    "                                                       r.plugboard_pairs),\n",
    "                                  translated=translate_with_settings(r.rotor_types, r.reflector_type, r.ring_settings,\n",
    "                                                                     r.plugboard_pairs, cypher)\n",
    "\n",
    "                                  ))\n"
   ]
  },
  {
   "cell_type": "markdown",
   "metadata": {
    "application/vnd.databricks.v1+cell": {
     "cellMetadata": {
      "byteLimit": 2048000,
      "rowLimit": 10000
     },
     "inputWidgets": {},
     "nuid": "83c4f6a5-a6d0-4dd3-9d74-4dfc36b0f87a",
     "showTitle": false,
     "title": ""
    }
   },
   "source": [
    "We will convert the results to a dataframe and order them by their score to see if we found the right settings..."
   ]
  },
  {
   "cell_type": "code",
   "execution_count": 0,
   "metadata": {
    "application/vnd.databricks.v1+cell": {
     "cellMetadata": {
      "byteLimit": 2048000,
      "rowLimit": 10000
     },
     "inputWidgets": {},
     "nuid": "314421c7-44f1-4252-b3f3-13d69945dd71",
     "showTitle": false,
     "title": ""
    }
   },
   "outputs": [
    {
     "output_type": "stream",
     "name": "stderr",
     "output_type": "stream",
     "text": [
      "INFO:py4j.clientserver:Received command c on object id p0\n"
     ]
    },
    {
     "output_type": "stream",
     "name": "stdout",
     "output_type": "stream",
     "text": [
      "+-----------+--------------+-------------+-----------------------------+-----+------------------------------------------------+\n|rotor_types|reflector_type|ring_settings|plugboard_pairs              |score|translated                                      |\n+-----------+--------------+-------------+-----------------------------+-----+------------------------------------------------+\n|II,III,I   |B             |I,A,A        |CU,DL,EP,KN,MO,XZ            |48   |WETTERVORHERSAGEXXXFURXDIEXREGIONXXXOSTXXXMOSKAU|\n|II,III,I   |B             |I,A,A        |BJ,CU,DL,EP,KN,MO,XZ         |47   |WETTERVORHERSAGEXXXFURXDIEXREGIONXXXOSTXXXMOOKAU|\n|II,III,I   |B             |I,A,A        |BQ,CU,DL,EP,KN,MO,XZ         |47   |WETOERVORHERSAGEXXXFURXDIEXREGIONXXXOSTXXXMOSKAU|\n|II,III,I   |B             |I,A,A        |BY,CU,DL,EP,KN,MO,XZ         |47   |WETTERVORHERSAGEXPXFURXDIEXREGIONXXXOSTXXXMOSKAU|\n|II,III,I   |B             |I,A,A        |BJ,BQ,CU,DL,EP,JQ,KN,MO,XZ   |46   |WETWERVORHERSAGEXXXFURXDIEXREGIONXXXOSTXXXMONKAU|\n|II,III,I   |B             |I,A,A        |BJ,BY,CU,DL,EP,JY,KN,MO,XZ   |46   |WETTERVORHERSAGEXZXFURXDIEXREGIONXXXOSTXXXMOZKAU|\n|II,III,I   |B             |I,A,A        |CU,DL,EP,KN,MO,QY,XZ         |46   |WETZERVORHERSAGEXSXFURXDIEXREGIONXXXOSTXXXMOSKAU|\n|II,III,I   |B             |I,A,A        |CU,DL,EP,JQ,KN,MO,XZ         |46   |WETWERVORHERSAGEXXXFURXDIEXREGIONXXXOSTXXXMONKAU|\n|II,III,I   |B             |I,A,A        |CU,DL,EP,JY,KN,MO,XZ         |46   |WETTERVORHERSAGEXZXFURXDIEXREGIONXXXOSTXXXMOZKAU|\n|II,III,I   |B             |I,A,A        |BQ,BY,CU,DL,EP,KN,MO,QY,XZ   |46   |WETZERVORHERSAGEXSXFURXDIEXREGIONXXXOSTXXXMOSKAU|\n|II,III,I   |B             |I,A,A        |BJ,BQ,CU,DL,EP,JQ,KN,MO,XZ   |46   |WETWERVORHERSAGEXXXFURXDIEXREGIONXXXOSTXXXMONKAU|\n|II,III,I   |B             |I,A,A        |BQ,BY,CU,DL,EP,KN,MO,QY,XZ   |46   |WETZERVORHERSAGEXSXFURXDIEXREGIONXXXOSTXXXMOSKAU|\n|II,III,I   |B             |I,A,A        |BJ,BY,CU,DL,EP,JY,KN,MO,XZ   |46   |WETTERVORHERSAGEXZXFURXDIEXREGIONXXXOSTXXXMOZKAU|\n|II,III,I   |B             |I,A,A        |BJ,CU,DL,EP,KN,MO,QY,XZ      |45   |WETZERVORHERSAGEXSXFURXDIEXREGIONXXXOSTXXXMOOKAU|\n|II,III,I   |B             |I,A,A        |BJ,BY,CU,DL,EP,JQ,KN,MO,QY,XZ|45   |WETZERVORHERSAGEXSXFURXDIEXREGIONXXXOSTXXXMONKAU|\n|II,III,I   |B             |I,A,A        |BJ,BQ,CU,DL,EP,JY,KN,MO,QY,XZ|45   |WETZERVORHERSAGEXSXFURXDIEXREGIONXXXOSTXXXMOZKAU|\n|II,III,I   |B             |I,A,A        |CU,DL,EP,JQ,JY,KN,MO,QY,XZ   |45   |WETZERVORHERSAGEXSXFURXDIEXREGIONXXXOSTXXXMOZKAU|\n|II,III,I   |B             |I,A,A        |CU,DL,EP,JQ,JY,KN,MO,QY,XZ   |45   |WETZERVORHERSAGEXSXFURXDIEXREGIONXXXOSTXXXMOZKAU|\n|II,III,I   |B             |I,A,A        |BJ,BQ,CU,DL,EP,JY,KN,MO,QY,XZ|45   |WETZERVORHERSAGEXSXFURXDIEXREGIONXXXOSTXXXMOZKAU|\n|II,III,I   |B             |I,A,A        |BQ,BY,CU,DL,EP,JQ,JY,KN,MO,XZ|45   |WETWERVORHERSAGEXZXFURXDIEXREGIONXXXOSTXXXMOZKAU|\n+-----------+--------------+-------------+-----------------------------+-----+------------------------------------------------+\nonly showing top 20 rows\n\n"
     ]
    }
   ],
   "source": [
    "df = rdd.map(lambda v: v[1]).toDF()\n",
    "df = df.filter(F.col('plugboard_pairs') != NOT_RESOLVABLE)\n",
    "df = df.orderBy(F.col('score'), ascending=False)\n",
    "df.show(truncate=False)\n"
   ]
  },
  {
   "cell_type": "markdown",
   "metadata": {
    "application/vnd.databricks.v1+cell": {
     "cellMetadata": {
      "byteLimit": 2048000,
      "rowLimit": 10000
     },
     "inputWidgets": {},
     "nuid": "8c41a1fb-fc0d-4d13-be02-3c804b2d199b",
     "showTitle": false,
     "title": ""
    }
   },
   "source": [
    "That's it! We found the settings! The Enigma that we cracked in this notebook was relatively easy. When more letters are connected through te plugboard it becomes harder to resolve the right rotor configuration. In such case, it would make sense to assess more rotor configurations and use a larger cluster."
   ]
  }
 ],
 "metadata": {
  "application/vnd.databricks.v1+notebook": {
   "dashboards": [],
   "language": "python",
   "notebookMetadata": {
    "pythonIndentUnit": 4
   },
   "notebookName": "cracking_enigma",
   "widgets": {}
  }
 },
 "nbformat": 4,
 "nbformat_minor": 0
}
