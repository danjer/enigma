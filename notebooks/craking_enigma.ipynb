{
 "cells": [
  {
   "cell_type": "markdown",
   "metadata": {
    "application/vnd.databricks.v1+cell": {
     "cellMetadata": {},
     "inputWidgets": {},
     "nuid": "a30d1e10-44f8-4458-bb44-4cc065798bba",
     "showTitle": false,
     "title": ""
    }
   },
   "source": [
    "# Cracking the Enigma Using Apache Spark\n",
    "\n",
    "The Enigma machine was a configurable device used by the Germans during World War II to encrypt confidential\n",
    "information. Although Nazi Germany placed great faith in the capabilities of the machine, it suffered from a few design\n",
    "flaws that the Allies managed to exploit, enabling them to read secret information. The story of deciphering the Enigma\n",
    "has been depicted in the film \"The Imitation Game.\"\n",
    "\n",
    "In this post, I will demonstrate how I cracked the Enigma machine using Apache Spark. This framework is widely used in\n",
    "big data analysis because it allows for distributed calculations and storage of data. This way, one can execute a\n",
    "massive amount of calculations on different machines, which can dramatically speed up the overall execution time. The\n",
    "process of cracking the Enigma involves several number crunching steps that can be executed in parallel. Because of\n",
    "this, Spark is an ideal tool to speed up the process."
   ]
  },
  {
   "cell_type": "markdown",
   "metadata": {
    "application/vnd.databricks.v1+cell": {
     "cellMetadata": {},
     "inputWidgets": {},
     "nuid": "d369c71b-2765-42d3-9814-ef4e8959aa67",
     "showTitle": false,
     "title": ""
    }
   },
   "source": [
    "## The Overall Approach for Cracking the Enigma\n",
    "\n",
    "In this post, I won't go into detail about the underlying workings of the Enigma machine or the algorithms that can be\n",
    "used to crack it. In short, the Enigma machine is a device that scrambles input letters to produce different output\n",
    "letters. With each button press, the mapping changes. This, combined with the fact that the Enigma machine could be\n",
    "configured in 158,962,555,217,826,360,000 different ways, led the Germans to believe that it was uncrackable. However,\n",
    "the fact that each input letter differs from the output makes it relatively easy to align a \"crib,\" a short known piece\n",
    "of the original text, with the encrypted text. Numberphile has some\n",
    "informative [videos](https://www.youtube.com/watch?v=G2_Q9FoD-oQ) about the Enigma in which they explain the algorithms\n",
    "involved in breaking the Enigma. I implemented these algorithms and an Enigma emulator in a separate Python package,\n",
    "which I used in a standalone script to break the Enigma with parallel computation on Databricks (sort of Spark as a\n",
    "service). All the code for this project is available on Github.\n",
    "\n"
   ]
  },
  {
   "cell_type": "markdown",
   "metadata": {
    "application/vnd.databricks.v1+cell": {
     "cellMetadata": {},
     "inputWidgets": {},
     "nuid": "78043bee-2b36-4adb-aec4-a2fb4cf029b2",
     "showTitle": false,
     "title": ""
    }
   },
   "source": [
    "### Setting up the infrastructure\n",
    "In this project I use Databricks as the Spark provider. To set up the Databricks workspace in azure cloud I use\n",
    "[Terraform](https://www.terraform.io/). Assuming that terraform is installed, enter the terraform folder and run:\n",
    "```commandline\n",
    "terraform init\n",
    "terraform apply\n",
    "```\n",
    "After the whole infrastructure is created, which will probably take a few minutes, you can navigate to\n",
    "the databricks workspace by clicking on the URL that is outputed in the terminal.\n",
    "The wokspace if preconfigured with a single node cluster with the engima-emulator installed and this notebook that you can run interactively\n"
   ]
  },
  {
   "cell_type": "markdown",
   "metadata": {
    "application/vnd.databricks.v1+cell": {
     "cellMetadata": {},
     "inputWidgets": {},
     "nuid": "7c70349b-d8cc-4c7e-9a14-1ae3d8e8edad",
     "showTitle": false,
     "title": ""
    }
   },
   "source": [
    "### Cracking the Enigma using a crib\n",
    "We start with encrypting a message using the emulator with a configured Enigma machine that we are going to crack.\n",
    "In this project we asume that we have a crib, that is, a decipherd/original piece of the encrypted text. In reality, these cribs were obtained either by informants or simply because they where trivial and included in daily messages. In this notebook I assume that we no the alignment of the crib with the cipher text, it is just the first piece of the text."
   ]
  },
  {
   "cell_type": "code",
   "execution_count": 0,
   "metadata": {
    "application/vnd.databricks.v1+cell": {
     "cellMetadata": {
      "byteLimit": 2048000,
      "rowLimit": 10000
     },
     "inputWidgets": {},
     "nuid": "344efa56-e4c6-4c73-954d-f2a1ee0fb6dc",
     "showTitle": false,
     "title": ""
    }
   },
   "outputs": [
    {
     "output_type": "display_data",
     "data": {
      "text/plain": [
       "\u001B[0;31m---------------------------------------------------------------------------\u001B[0m\n",
       "\u001B[0;31mModuleNotFoundError\u001B[0m                       Traceback (most recent call last)\n",
       "File \u001B[0;32m<command-831146424884685>, line 4\u001B[0m\n",
       "\u001B[1;32m      2\u001B[0m \u001B[38;5;28;01mfrom\u001B[39;00m \u001B[38;5;21;01mtyping\u001B[39;00m \u001B[38;5;28;01mimport\u001B[39;00m List\n",
       "\u001B[1;32m      3\u001B[0m \u001B[38;5;66;03m# from enigma.crack import get_possible_rotor_settings, PlugBoardResolver, InvalidSettings\u001B[39;00m\n",
       "\u001B[0;32m----> 4\u001B[0m \u001B[38;5;28;01mfrom\u001B[39;00m \u001B[38;5;21;01menigma\u001B[39;00m\u001B[38;5;21;01m.\u001B[39;00m\u001B[38;5;21;01memulator\u001B[39;00m \u001B[38;5;28;01mimport\u001B[39;00m Enigma\n",
       "\u001B[1;32m      5\u001B[0m \u001B[38;5;28;01mfrom\u001B[39;00m \u001B[38;5;21;01mpyspark\u001B[39;00m\u001B[38;5;21;01m.\u001B[39;00m\u001B[38;5;21;01msql\u001B[39;00m\u001B[38;5;21;01m.\u001B[39;00m\u001B[38;5;21;01msession\u001B[39;00m \u001B[38;5;28;01mimport\u001B[39;00m SparkSession\n",
       "\u001B[1;32m      6\u001B[0m \u001B[38;5;28;01mfrom\u001B[39;00m \u001B[38;5;21;01mpyspark\u001B[39;00m\u001B[38;5;21;01m.\u001B[39;00m\u001B[38;5;21;01msql\u001B[39;00m \u001B[38;5;28;01mimport\u001B[39;00m Row\n",
       "\n",
       "\u001B[0;31mModuleNotFoundError\u001B[0m: No module named 'enigma.emulator'"
      ]
     },
     "metadata": {
      "application/vnd.databricks.v1+output": {
       "arguments": {},
       "data": "\u001B[0;31m---------------------------------------------------------------------------\u001B[0m\n\u001B[0;31mModuleNotFoundError\u001B[0m                       Traceback (most recent call last)\nFile \u001B[0;32m<command-831146424884685>, line 4\u001B[0m\n\u001B[1;32m      2\u001B[0m \u001B[38;5;28;01mfrom\u001B[39;00m \u001B[38;5;21;01mtyping\u001B[39;00m \u001B[38;5;28;01mimport\u001B[39;00m List\n\u001B[1;32m      3\u001B[0m \u001B[38;5;66;03m# from enigma.crack import get_possible_rotor_settings, PlugBoardResolver, InvalidSettings\u001B[39;00m\n\u001B[0;32m----> 4\u001B[0m \u001B[38;5;28;01mfrom\u001B[39;00m \u001B[38;5;21;01menigma\u001B[39;00m\u001B[38;5;21;01m.\u001B[39;00m\u001B[38;5;21;01memulator\u001B[39;00m \u001B[38;5;28;01mimport\u001B[39;00m Enigma\n\u001B[1;32m      5\u001B[0m \u001B[38;5;28;01mfrom\u001B[39;00m \u001B[38;5;21;01mpyspark\u001B[39;00m\u001B[38;5;21;01m.\u001B[39;00m\u001B[38;5;21;01msql\u001B[39;00m\u001B[38;5;21;01m.\u001B[39;00m\u001B[38;5;21;01msession\u001B[39;00m \u001B[38;5;28;01mimport\u001B[39;00m SparkSession\n\u001B[1;32m      6\u001B[0m \u001B[38;5;28;01mfrom\u001B[39;00m \u001B[38;5;21;01mpyspark\u001B[39;00m\u001B[38;5;21;01m.\u001B[39;00m\u001B[38;5;21;01msql\u001B[39;00m \u001B[38;5;28;01mimport\u001B[39;00m Row\n\n\u001B[0;31mModuleNotFoundError\u001B[0m: No module named 'enigma.emulator'",
       "errorSummary": "<span class='ansi-red-fg'>ModuleNotFoundError</span>: No module named 'enigma.emulator'",
       "errorTraceType": "ansi",
       "metadata": {},
       "type": "ipynbError"
      }
     },
     "output_type": "display_data"
    }
   ],
   "source": [
    "import pyspark.sql.functions as F\n",
    "from typing import List\n",
    "# from enigma.crack import get_possible_rotor_settings, PlugBoardResolver, InvalidSettings\n",
    "from enigma.emulator import Enigma\n",
    "from pyspark.sql.session import SparkSession\n",
    "from pyspark.sql import Row\n",
    "from functools import partial\n",
    "\n",
    "\n",
    "# build spark session\n",
    "spark = SparkSession.builder.getOrCreate()\n",
    "\n",
    "crib = \"WettervorhersageXXXfurxdiexRegionXXXOstXXXMoskau\".upper()\n",
    "complete_message = f\"{crib}xxxextremxKaltexxxTemperaturenxxxundxxxstarkerxxxSchneefallxxxseixxxgewarnt\"\n",
    "\n",
    "e = Enigma(rotor_types=\"II,III,I\", ring_settings=\"I,A,A\", plugboard_pairs=\"CU,DL,EP,KN,MO,XZ\")\n",
    "cypher = e.encrypt(crib)\n",
    "print(cypher)"
   ]
  },
  {
   "cell_type": "code",
   "execution_count": 0,
   "metadata": {
    "application/vnd.databricks.v1+cell": {
     "cellMetadata": {},
     "inputWidgets": {},
     "nuid": "fc27148b-7d52-4750-893a-e81071d85d8b",
     "showTitle": false,
     "title": ""
    }
   },
   "outputs": [],
   "source": []
  }
 ],
 "metadata": {
  "application/vnd.databricks.v1+notebook": {
   "dashboards": [],
   "language": "python",
   "notebookMetadata": {
    "pythonIndentUnit": 4
   },
   "notebookName": "craking_enigma",
   "widgets": {}
  }
 },
 "nbformat": 4,
 "nbformat_minor": 0
}
